{
 "cells": [
  {
   "cell_type": "code",
   "execution_count": null,
   "metadata": {},
   "outputs": [],
   "source": [
    "# Load dataset iris dari sklearn\n",
    "\n",
    "from sklearn.datasets import load_iris\n",
    "from sklearn import tree\n",
    "iris = load_iris()\n",
    "print(iris.data)"
   ]
  },
  {
   "cell_type": "code",
   "execution_count": null,
   "metadata": {
    "collapsed": true
   },
   "outputs": [],
   "source": [
    "# Pembelajaran DTL pada dataset iris\n",
    "\n",
    "clfdtliris = tree.DecisionTreeClassifier()\n",
    "clfdtliris = clfdtliris.fit(iris.data, iris.target)"
   ]
  },
  {
   "cell_type": "code",
   "execution_count": null,
   "metadata": {},
   "outputs": [],
   "source": [
    "# Pembelajaran ANN pada dataset iris\n",
    "\n",
    "from sklearn.neural_network import MLPClassifier\n",
    "clfanniris = MLPClassifier(activation='logistic',solver='lbfgs', alpha=1e-5,hidden_layer_sizes=(15, 2), random_state=1)\n",
    "clfanniris.fit(iris.data, iris.target)"
   ]
  },
  {
   "cell_type": "code",
   "execution_count": null,
   "metadata": {},
   "outputs": [],
   "source": [
    "# Fungsi untuk print Confusion Matrix\n",
    "\n",
    "print(__doc__)\n",
    "\n",
    "import itertools\n",
    "import numpy as np\n",
    "import matplotlib.pyplot as plt\n",
    "\n",
    "from sklearn import svm, datasets, tree\n",
    "from sklearn.model_selection import train_test_split\n",
    "from sklearn.metrics import confusion_matrix\n",
    "\n",
    "def plot_confusion_matrix(cm, classes,\n",
    "                          normalize=False,\n",
    "                          title='Confusion matrix',\n",
    "                          cmap=plt.cm.Blues):\n",
    "    \"\"\"\n",
    "    This function prints and plots the confusion matrix.\n",
    "    Normalization can be applied by setting `normalize=True`.\n",
    "    \"\"\"\n",
    "    if normalize:\n",
    "        cm = cm.astype('float') / cm.sum(axis=1)[:, np.newaxis]\n",
    "        print(\"Normalized confusion matrix\")\n",
    "    else:\n",
    "        print('Confusion matrix, without normalization')\n",
    "\n",
    "    print(cm)\n",
    "\n",
    "    plt.imshow(cm, interpolation='nearest', cmap=cmap)\n",
    "    plt.title(title)\n",
    "    plt.colorbar()\n",
    "    tick_marks = np.arange(len(classes))\n",
    "    plt.xticks(tick_marks, classes, rotation=45)\n",
    "    plt.yticks(tick_marks, classes)\n",
    "\n",
    "    fmt = '.2f' if normalize else 'd'\n",
    "    thresh = cm.max() / 2.\n",
    "    for i, j in itertools.product(range(cm.shape[0]), range(cm.shape[1])):\n",
    "        plt.text(j, i, format(cm[i, j], fmt),\n",
    "                 horizontalalignment=\"center\",\n",
    "                 color=\"white\" if cm[i, j] > thresh else \"black\")\n",
    "\n",
    "    plt.tight_layout()\n",
    "    plt.ylabel('True label')\n",
    "    plt.xlabel('Predicted label')\n",
    "\n"
   ]
  },
  {
   "cell_type": "code",
   "execution_count": null,
   "metadata": {},
   "outputs": [],
   "source": [
    "# Pembelajaran DTL dan ANN pada dataset iris dengan skema split train 90 % test 10 %\n",
    "\n",
    "from sklearn.model_selection import train_test_split\n",
    "\n",
    "iris = datasets.load_iris()\n",
    "class_names = iris.target_names\n",
    "\n",
    "# Membagi menjadi 90 % train dan 10 % test\n",
    "X_train, X_test, y_train, y_test = train_test_split(iris.data, iris.target, test_size=0.1, random_state=0)\n",
    "\n",
    "# Pembelajaran DTL\n",
    "classifierdtl = tree.DecisionTreeClassifier()\n",
    "y_pred = classifierdtl.fit(X_train, y_train).predict(X_test)\n",
    "\n",
    "\n",
    "# Pembelajaran ANN pada dataset iris\n",
    "\n",
    "from sklearn.neural_network import MLPClassifier\n",
    "classifierann = MLPClassifier(activation='logistic',solver='lbfgs', alpha=1e-5,hidden_layer_sizes=(15, 2), random_state=1)\n",
    "y_pred2 = classifierann.fit(X_train, y_train).predict(X_test)"
   ]
  },
  {
   "cell_type": "code",
   "execution_count": null,
   "metadata": {},
   "outputs": [],
   "source": [
    "# Confusion Matrix untuk Klasifikasi DTL\n",
    "cnf_matrix = confusion_matrix(y_test, y_pred)\n",
    "np.set_printoptions(precision=2)\n",
    "\n",
    "# Plot untuk non-normalized Confusion Matrix\n",
    "plt.figure()\n",
    "plot_confusion_matrix(cnf_matrix, classes=class_names,\n",
    "                      title='Confusion Matrix, Tanpa normalisasi')\n",
    "\n",
    "# Plot untuk normalized Confusion Matrix\n",
    "plt.figure()\n",
    "plot_confusion_matrix(cnf_matrix, classes=class_names, normalize=True,\n",
    "                      title='Confusion Matrix dengan Normalisasi')\n",
    "\n",
    "plt.show()"
   ]
  },
  {
   "cell_type": "code",
   "execution_count": null,
   "metadata": {},
   "outputs": [],
   "source": [
    "# Confusion Matrix untuk Klasifikasi ANN\n",
    "cnf_matrix = confusion_matrix(y_test, y_pred2)\n",
    "np.set_printoptions(precision=2)\n",
    "\n",
    "# Plot untuk non-normalized Confusion Matrix\n",
    "plt.figure()\n",
    "plot_confusion_matrix(cnf_matrix, classes=class_names,\n",
    "                      title='Confusion Matrix, Tanpa normalisasi')\n",
    "\n",
    "# Plot untuk normalized Confusion Matrix\n",
    "plt.figure()\n",
    "plot_confusion_matrix(cnf_matrix, classes=class_names, normalize=True,\n",
    "                      title='Confusion Matrix dengan Normalisasi')\n",
    "\n",
    "plt.show()"
   ]
  },
  {
   "cell_type": "code",
   "execution_count": null,
   "metadata": {},
   "outputs": [],
   "source": [
    "# Kinerja klasifikasi DTL\n",
    "print(\"Kinerja klasifikasi DTL : \",classifierdtl.score(X_test,y_test))\n",
    "\n",
    "# Kinerja klasifikasi ANN\n",
    "print(\"Kinerja klasifikasi ANN : \",classifierann.score(X_test,y_test))"
   ]
  },
  {
   "cell_type": "code",
   "execution_count": null,
   "metadata": {},
   "outputs": [],
   "source": [
    "# Safe model ke file eksternal\n",
    "\n",
    "from sklearn import svm,datasets,tree\n",
    "from sklearn.externals import joblib\n",
    "iris = datasets.load_iris()\n",
    "clfdtliris = tree.DecisionTreeClassifier()\n",
    "clfdtliris = clfdtliris.fit(iris.data, iris.target)\n",
    "\n",
    "joblib.dump(clfdtliris, 'modelklasifikasi.pkl')"
   ]
  },
  {
   "cell_type": "code",
   "execution_count": null,
   "metadata": {
    "collapsed": true
   },
   "outputs": [],
   "source": [
    "# Load model dari file eksternal\n",
    "\n",
    "clfload = joblib.load('modelklasifikasi.pkl') "
   ]
  },
  {
   "cell_type": "code",
   "execution_count": null,
   "metadata": {},
   "outputs": [],
   "source": [
    "# Instance baru dengan pemberian nilai setiap atribut\n",
    "\n",
    "instancebaru = [[ 2.5,  1. ,  5.9,  2.3]]"
   ]
  },
  {
   "cell_type": "code",
   "execution_count": null,
   "metadata": {},
   "outputs": [],
   "source": [
    "# Klasifikasi DTL untuk instance baru\n",
    "\n",
    "print(\"Klasifikasi DTL untuk instance baru : \",clfdtliris.predict(instancebaru))\n",
    "\n",
    "\n",
    "# Klasifikasi ANN untuk instance baru\n",
    "\n",
    "print(\"Klasifikasi ANN untuk instance baru : \",clfanniris.predict(instancebaru))"
   ]
  }
 ],
 "metadata": {
  "kernelspec": {
   "display_name": "Python 3",
   "language": "python",
   "name": "python3"
  },
  "language_info": {
   "codemirror_mode": {
    "name": "ipython",
    "version": 3
   },
   "file_extension": ".py",
   "mimetype": "text/x-python",
   "name": "python",
   "nbconvert_exporter": "python",
   "pygments_lexer": "ipython3",
   "version": "3.6.3"
  }
 },
 "nbformat": 4,
 "nbformat_minor": 2
}
